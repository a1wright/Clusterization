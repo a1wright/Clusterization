{
  "nbformat": 4,
  "nbformat_minor": 0,
  "metadata": {
    "colab": {
      "name": "Banners",
      "provenance": [],
      "collapsed_sections": []
    },
    "kernelspec": {
      "name": "python3",
      "display_name": "Python 3"
    },
    "language_info": {
      "name": "python"
    }
  },
  "cells": [
    {
      "cell_type": "code",
      "source": [
        "import pandas as pd\n",
        "import matplotlib.pyplot as plt\n",
        "from sklearn.cluster import MeanShift"
      ],
      "metadata": {
        "id": "oNeeytj8O_Y-"
      },
      "execution_count": 21,
      "outputs": []
    },
    {
      "cell_type": "code",
      "execution_count": 22,
      "metadata": {
        "id": "fP0Wc7dZOQWM"
      },
      "outputs": [],
      "source": [
        "Data= \"/content/drive/My Drive/checkins.dat\""
      ]
    },
    {
      "cell_type": "code",
      "source": [
        "df = pd.read_csv(Data, sep='|', header=0, skipinitialspace=True)"
      ],
      "metadata": {
        "colab": {
          "base_uri": "https://localhost:8080/"
        },
        "id": "5KQb4yyxPCh5",
        "outputId": "ca66a944-a40a-4e40-bca2-5ce07f2e2677"
      },
      "execution_count": 23,
      "outputs": [
        {
          "output_type": "stream",
          "name": "stderr",
          "text": [
            "/usr/local/lib/python3.7/dist-packages/IPython/core/interactiveshell.py:2718: DtypeWarning: Columns (0) have mixed types.Specify dtype option on import or set low_memory=False.\n",
            "  interactivity=interactivity, compiler=compiler, result=result)\n"
          ]
        }
      ]
    },
    {
      "cell_type": "code",
      "source": [
        "print(df.shape)\n",
        "df.head()"
      ],
      "metadata": {
        "colab": {
          "base_uri": "https://localhost:8080/",
          "height": 224
        },
        "id": "vY0cpOuTPnSk",
        "outputId": "db27828a-dff8-4761-bdc9-acb3c037a476"
      },
      "execution_count": 24,
      "outputs": [
        {
          "output_type": "stream",
          "name": "stdout",
          "text": [
            "(1021968, 6)\n"
          ]
        },
        {
          "output_type": "execute_result",
          "data": {
            "text/html": [
              "\n",
              "  <div id=\"df-a62b1246-3a4d-4e2f-95a3-c0c0e21e4ae7\">\n",
              "    <div class=\"colab-df-container\">\n",
              "      <div>\n",
              "<style scoped>\n",
              "    .dataframe tbody tr th:only-of-type {\n",
              "        vertical-align: middle;\n",
              "    }\n",
              "\n",
              "    .dataframe tbody tr th {\n",
              "        vertical-align: top;\n",
              "    }\n",
              "\n",
              "    .dataframe thead th {\n",
              "        text-align: right;\n",
              "    }\n",
              "</style>\n",
              "<table border=\"1\" class=\"dataframe\">\n",
              "  <thead>\n",
              "    <tr style=\"text-align: right;\">\n",
              "      <th></th>\n",
              "      <th>id</th>\n",
              "      <th>user_id</th>\n",
              "      <th>venue_id</th>\n",
              "      <th>latitude</th>\n",
              "      <th>longitude</th>\n",
              "      <th>created_at</th>\n",
              "    </tr>\n",
              "  </thead>\n",
              "  <tbody>\n",
              "    <tr>\n",
              "      <th>0</th>\n",
              "      <td>---------+---------+----------+---------------...</td>\n",
              "      <td>NaN</td>\n",
              "      <td>NaN</td>\n",
              "      <td>NaN</td>\n",
              "      <td>NaN</td>\n",
              "      <td>NaN</td>\n",
              "    </tr>\n",
              "    <tr>\n",
              "      <th>1</th>\n",
              "      <td>984301</td>\n",
              "      <td>2041916.0</td>\n",
              "      <td>5222.0</td>\n",
              "      <td>NaN</td>\n",
              "      <td>NaN</td>\n",
              "      <td>2012-04-21 17:39:01</td>\n",
              "    </tr>\n",
              "    <tr>\n",
              "      <th>2</th>\n",
              "      <td>984222</td>\n",
              "      <td>15824.0</td>\n",
              "      <td>5222.0</td>\n",
              "      <td>38.895112</td>\n",
              "      <td>-77.036366</td>\n",
              "      <td>2012-04-21 17:43:47</td>\n",
              "    </tr>\n",
              "    <tr>\n",
              "      <th>3</th>\n",
              "      <td>984315</td>\n",
              "      <td>1764391.0</td>\n",
              "      <td>5222.0</td>\n",
              "      <td>NaN</td>\n",
              "      <td>NaN</td>\n",
              "      <td>2012-04-21 17:37:18</td>\n",
              "    </tr>\n",
              "    <tr>\n",
              "      <th>4</th>\n",
              "      <td>984234</td>\n",
              "      <td>44652.0</td>\n",
              "      <td>5222.0</td>\n",
              "      <td>33.800745</td>\n",
              "      <td>-84.410520</td>\n",
              "      <td>2012-04-21 17:43:43</td>\n",
              "    </tr>\n",
              "  </tbody>\n",
              "</table>\n",
              "</div>\n",
              "      <button class=\"colab-df-convert\" onclick=\"convertToInteractive('df-a62b1246-3a4d-4e2f-95a3-c0c0e21e4ae7')\"\n",
              "              title=\"Convert this dataframe to an interactive table.\"\n",
              "              style=\"display:none;\">\n",
              "        \n",
              "  <svg xmlns=\"http://www.w3.org/2000/svg\" height=\"24px\"viewBox=\"0 0 24 24\"\n",
              "       width=\"24px\">\n",
              "    <path d=\"M0 0h24v24H0V0z\" fill=\"none\"/>\n",
              "    <path d=\"M18.56 5.44l.94 2.06.94-2.06 2.06-.94-2.06-.94-.94-2.06-.94 2.06-2.06.94zm-11 1L8.5 8.5l.94-2.06 2.06-.94-2.06-.94L8.5 2.5l-.94 2.06-2.06.94zm10 10l.94 2.06.94-2.06 2.06-.94-2.06-.94-.94-2.06-.94 2.06-2.06.94z\"/><path d=\"M17.41 7.96l-1.37-1.37c-.4-.4-.92-.59-1.43-.59-.52 0-1.04.2-1.43.59L10.3 9.45l-7.72 7.72c-.78.78-.78 2.05 0 2.83L4 21.41c.39.39.9.59 1.41.59.51 0 1.02-.2 1.41-.59l7.78-7.78 2.81-2.81c.8-.78.8-2.07 0-2.86zM5.41 20L4 18.59l7.72-7.72 1.47 1.35L5.41 20z\"/>\n",
              "  </svg>\n",
              "      </button>\n",
              "      \n",
              "  <style>\n",
              "    .colab-df-container {\n",
              "      display:flex;\n",
              "      flex-wrap:wrap;\n",
              "      gap: 12px;\n",
              "    }\n",
              "\n",
              "    .colab-df-convert {\n",
              "      background-color: #E8F0FE;\n",
              "      border: none;\n",
              "      border-radius: 50%;\n",
              "      cursor: pointer;\n",
              "      display: none;\n",
              "      fill: #1967D2;\n",
              "      height: 32px;\n",
              "      padding: 0 0 0 0;\n",
              "      width: 32px;\n",
              "    }\n",
              "\n",
              "    .colab-df-convert:hover {\n",
              "      background-color: #E2EBFA;\n",
              "      box-shadow: 0px 1px 2px rgba(60, 64, 67, 0.3), 0px 1px 3px 1px rgba(60, 64, 67, 0.15);\n",
              "      fill: #174EA6;\n",
              "    }\n",
              "\n",
              "    [theme=dark] .colab-df-convert {\n",
              "      background-color: #3B4455;\n",
              "      fill: #D2E3FC;\n",
              "    }\n",
              "\n",
              "    [theme=dark] .colab-df-convert:hover {\n",
              "      background-color: #434B5C;\n",
              "      box-shadow: 0px 1px 3px 1px rgba(0, 0, 0, 0.15);\n",
              "      filter: drop-shadow(0px 1px 2px rgba(0, 0, 0, 0.3));\n",
              "      fill: #FFFFFF;\n",
              "    }\n",
              "  </style>\n",
              "\n",
              "      <script>\n",
              "        const buttonEl =\n",
              "          document.querySelector('#df-a62b1246-3a4d-4e2f-95a3-c0c0e21e4ae7 button.colab-df-convert');\n",
              "        buttonEl.style.display =\n",
              "          google.colab.kernel.accessAllowed ? 'block' : 'none';\n",
              "\n",
              "        async function convertToInteractive(key) {\n",
              "          const element = document.querySelector('#df-a62b1246-3a4d-4e2f-95a3-c0c0e21e4ae7');\n",
              "          const dataTable =\n",
              "            await google.colab.kernel.invokeFunction('convertToInteractive',\n",
              "                                                     [key], {});\n",
              "          if (!dataTable) return;\n",
              "\n",
              "          const docLinkHtml = 'Like what you see? Visit the ' +\n",
              "            '<a target=\"_blank\" href=https://colab.research.google.com/notebooks/data_table.ipynb>data table notebook</a>'\n",
              "            + ' to learn more about interactive tables.';\n",
              "          element.innerHTML = '';\n",
              "          dataTable['output_type'] = 'display_data';\n",
              "          await google.colab.output.renderOutput(dataTable, element);\n",
              "          const docLink = document.createElement('div');\n",
              "          docLink.innerHTML = docLinkHtml;\n",
              "          element.appendChild(docLink);\n",
              "        }\n",
              "      </script>\n",
              "    </div>\n",
              "  </div>\n",
              "  "
            ],
            "text/plain": [
              "                                              id      ...     created_at      \n",
              "0  ---------+---------+----------+---------------...  ...                  NaN\n",
              "1                                            984301   ...  2012-04-21 17:39:01\n",
              "2                                            984222   ...  2012-04-21 17:43:47\n",
              "3                                            984315   ...  2012-04-21 17:37:18\n",
              "4                                            984234   ...  2012-04-21 17:43:43\n",
              "\n",
              "[5 rows x 6 columns]"
            ]
          },
          "metadata": {},
          "execution_count": 24
        }
      ]
    },
    {
      "cell_type": "markdown",
      "source": [
        "Удалим строки, не содержащие координат — они неинформативны "
      ],
      "metadata": {
        "id": "IQZh8EL4P3mi"
      }
    },
    {
      "cell_type": "code",
      "source": [
        "df.dropna(inplace=True)\n",
        "df.columns = [name.strip() for name in df.columns]"
      ],
      "metadata": {
        "id": "s4XwV56FP848"
      },
      "execution_count": 25,
      "outputs": []
    },
    {
      "cell_type": "code",
      "source": [
        "df.head()"
      ],
      "metadata": {
        "colab": {
          "base_uri": "https://localhost:8080/",
          "height": 206
        },
        "id": "XG1lYHewP-_w",
        "outputId": "d0eba310-f9dd-4b19-a5d0-a8ef92990957"
      },
      "execution_count": 26,
      "outputs": [
        {
          "output_type": "execute_result",
          "data": {
            "text/html": [
              "\n",
              "  <div id=\"df-14aea609-9972-4b60-81ba-9f5ee027c3b3\">\n",
              "    <div class=\"colab-df-container\">\n",
              "      <div>\n",
              "<style scoped>\n",
              "    .dataframe tbody tr th:only-of-type {\n",
              "        vertical-align: middle;\n",
              "    }\n",
              "\n",
              "    .dataframe tbody tr th {\n",
              "        vertical-align: top;\n",
              "    }\n",
              "\n",
              "    .dataframe thead th {\n",
              "        text-align: right;\n",
              "    }\n",
              "</style>\n",
              "<table border=\"1\" class=\"dataframe\">\n",
              "  <thead>\n",
              "    <tr style=\"text-align: right;\">\n",
              "      <th></th>\n",
              "      <th>id</th>\n",
              "      <th>user_id</th>\n",
              "      <th>venue_id</th>\n",
              "      <th>latitude</th>\n",
              "      <th>longitude</th>\n",
              "      <th>created_at</th>\n",
              "    </tr>\n",
              "  </thead>\n",
              "  <tbody>\n",
              "    <tr>\n",
              "      <th>2</th>\n",
              "      <td>984222</td>\n",
              "      <td>15824.0</td>\n",
              "      <td>5222.0</td>\n",
              "      <td>38.895112</td>\n",
              "      <td>-77.036366</td>\n",
              "      <td>2012-04-21 17:43:47</td>\n",
              "    </tr>\n",
              "    <tr>\n",
              "      <th>4</th>\n",
              "      <td>984234</td>\n",
              "      <td>44652.0</td>\n",
              "      <td>5222.0</td>\n",
              "      <td>33.800745</td>\n",
              "      <td>-84.410520</td>\n",
              "      <td>2012-04-21 17:43:43</td>\n",
              "    </tr>\n",
              "    <tr>\n",
              "      <th>8</th>\n",
              "      <td>984291</td>\n",
              "      <td>105054.0</td>\n",
              "      <td>5222.0</td>\n",
              "      <td>45.523452</td>\n",
              "      <td>-122.676207</td>\n",
              "      <td>2012-04-21 17:39:22</td>\n",
              "    </tr>\n",
              "    <tr>\n",
              "      <th>10</th>\n",
              "      <td>984318</td>\n",
              "      <td>2146539.0</td>\n",
              "      <td>5222.0</td>\n",
              "      <td>40.764462</td>\n",
              "      <td>-111.904565</td>\n",
              "      <td>2012-04-21 17:35:46</td>\n",
              "    </tr>\n",
              "    <tr>\n",
              "      <th>11</th>\n",
              "      <td>984232</td>\n",
              "      <td>93870.0</td>\n",
              "      <td>380645.0</td>\n",
              "      <td>33.448377</td>\n",
              "      <td>-112.074037</td>\n",
              "      <td>2012-04-21 17:38:18</td>\n",
              "    </tr>\n",
              "  </tbody>\n",
              "</table>\n",
              "</div>\n",
              "      <button class=\"colab-df-convert\" onclick=\"convertToInteractive('df-14aea609-9972-4b60-81ba-9f5ee027c3b3')\"\n",
              "              title=\"Convert this dataframe to an interactive table.\"\n",
              "              style=\"display:none;\">\n",
              "        \n",
              "  <svg xmlns=\"http://www.w3.org/2000/svg\" height=\"24px\"viewBox=\"0 0 24 24\"\n",
              "       width=\"24px\">\n",
              "    <path d=\"M0 0h24v24H0V0z\" fill=\"none\"/>\n",
              "    <path d=\"M18.56 5.44l.94 2.06.94-2.06 2.06-.94-2.06-.94-.94-2.06-.94 2.06-2.06.94zm-11 1L8.5 8.5l.94-2.06 2.06-.94-2.06-.94L8.5 2.5l-.94 2.06-2.06.94zm10 10l.94 2.06.94-2.06 2.06-.94-2.06-.94-.94-2.06-.94 2.06-2.06.94z\"/><path d=\"M17.41 7.96l-1.37-1.37c-.4-.4-.92-.59-1.43-.59-.52 0-1.04.2-1.43.59L10.3 9.45l-7.72 7.72c-.78.78-.78 2.05 0 2.83L4 21.41c.39.39.9.59 1.41.59.51 0 1.02-.2 1.41-.59l7.78-7.78 2.81-2.81c.8-.78.8-2.07 0-2.86zM5.41 20L4 18.59l7.72-7.72 1.47 1.35L5.41 20z\"/>\n",
              "  </svg>\n",
              "      </button>\n",
              "      \n",
              "  <style>\n",
              "    .colab-df-container {\n",
              "      display:flex;\n",
              "      flex-wrap:wrap;\n",
              "      gap: 12px;\n",
              "    }\n",
              "\n",
              "    .colab-df-convert {\n",
              "      background-color: #E8F0FE;\n",
              "      border: none;\n",
              "      border-radius: 50%;\n",
              "      cursor: pointer;\n",
              "      display: none;\n",
              "      fill: #1967D2;\n",
              "      height: 32px;\n",
              "      padding: 0 0 0 0;\n",
              "      width: 32px;\n",
              "    }\n",
              "\n",
              "    .colab-df-convert:hover {\n",
              "      background-color: #E2EBFA;\n",
              "      box-shadow: 0px 1px 2px rgba(60, 64, 67, 0.3), 0px 1px 3px 1px rgba(60, 64, 67, 0.15);\n",
              "      fill: #174EA6;\n",
              "    }\n",
              "\n",
              "    [theme=dark] .colab-df-convert {\n",
              "      background-color: #3B4455;\n",
              "      fill: #D2E3FC;\n",
              "    }\n",
              "\n",
              "    [theme=dark] .colab-df-convert:hover {\n",
              "      background-color: #434B5C;\n",
              "      box-shadow: 0px 1px 3px 1px rgba(0, 0, 0, 0.15);\n",
              "      filter: drop-shadow(0px 1px 2px rgba(0, 0, 0, 0.3));\n",
              "      fill: #FFFFFF;\n",
              "    }\n",
              "  </style>\n",
              "\n",
              "      <script>\n",
              "        const buttonEl =\n",
              "          document.querySelector('#df-14aea609-9972-4b60-81ba-9f5ee027c3b3 button.colab-df-convert');\n",
              "        buttonEl.style.display =\n",
              "          google.colab.kernel.accessAllowed ? 'block' : 'none';\n",
              "\n",
              "        async function convertToInteractive(key) {\n",
              "          const element = document.querySelector('#df-14aea609-9972-4b60-81ba-9f5ee027c3b3');\n",
              "          const dataTable =\n",
              "            await google.colab.kernel.invokeFunction('convertToInteractive',\n",
              "                                                     [key], {});\n",
              "          if (!dataTable) return;\n",
              "\n",
              "          const docLinkHtml = 'Like what you see? Visit the ' +\n",
              "            '<a target=\"_blank\" href=https://colab.research.google.com/notebooks/data_table.ipynb>data table notebook</a>'\n",
              "            + ' to learn more about interactive tables.';\n",
              "          element.innerHTML = '';\n",
              "          dataTable['output_type'] = 'display_data';\n",
              "          await google.colab.output.renderOutput(dataTable, element);\n",
              "          const docLink = document.createElement('div');\n",
              "          docLink.innerHTML = docLinkHtml;\n",
              "          element.appendChild(docLink);\n",
              "        }\n",
              "      </script>\n",
              "    </div>\n",
              "  </div>\n",
              "  "
            ],
            "text/plain": [
              "         id    user_id  venue_id   latitude   longitude           created_at\n",
              "2   984222     15824.0    5222.0  38.895112  -77.036366  2012-04-21 17:43:47\n",
              "4   984234     44652.0    5222.0  33.800745  -84.410520  2012-04-21 17:43:43\n",
              "8   984291    105054.0    5222.0  45.523452 -122.676207  2012-04-21 17:39:22\n",
              "10  984318   2146539.0    5222.0  40.764462 -111.904565  2012-04-21 17:35:46\n",
              "11  984232     93870.0  380645.0  33.448377 -112.074037  2012-04-21 17:38:18"
            ]
          },
          "metadata": {},
          "execution_count": 26
        }
      ]
    },
    {
      "cell_type": "markdown",
      "source": [
        "Убедимся, что все 396634 строки с координатами считаны успешно."
      ],
      "metadata": {
        "id": "Hg0GOQGEQRxc"
      }
    },
    {
      "cell_type": "code",
      "source": [
        "len(df)"
      ],
      "metadata": {
        "colab": {
          "base_uri": "https://localhost:8080/"
        },
        "id": "Jr4CPqTnQQXK",
        "outputId": "ccb9f850-9d3b-438e-f6fc-e55ad37f50a1"
      },
      "execution_count": 29,
      "outputs": [
        {
          "output_type": "execute_result",
          "data": {
            "text/plain": [
              "396634"
            ]
          },
          "metadata": {},
          "execution_count": 29
        }
      ]
    },
    {
      "cell_type": "code",
      "source": [
        "df.plot.scatter(x='longitude', y='latitude', alpha=0.3)"
      ],
      "metadata": {
        "colab": {
          "base_uri": "https://localhost:8080/",
          "height": 296
        },
        "id": "t6x-ZzNHRP6K",
        "outputId": "9ce50211-8dc2-40af-f758-bd01fd728590"
      },
      "execution_count": 30,
      "outputs": [
        {
          "output_type": "execute_result",
          "data": {
            "text/plain": [
              "<matplotlib.axes._subplots.AxesSubplot at 0x7f3d6b5ec150>"
            ]
          },
          "metadata": {},
          "execution_count": 30
        },
        {
          "output_type": "display_data",
          "data": {
            "image/png": "[encoded data removed]",
            "text/plain": [
              "<Figure size 432x288 with 1 Axes>"
            ]
          },
          "metadata": {
            "needs_background": "light"
          }
        }
      ]
    },
    {
      "cell_type": "markdown",
      "source": [
        "Теперь необходимо кластеризовать данные координаты, чтобы выявить центры скоплений туристов. Поскольку баннеры имеют сравнительно небольшую площадь действия, нам нужен алгоритм, позволяющий ограничить размер кластера и не зависящий от количества кластеров"
      ],
      "metadata": {
        "id": "2bdWFFVLRV_1"
      }
    },
    {
      "cell_type": "markdown",
      "source": [
        "Обучение алгоритма на всём датасете занимает около часа, а на 100 тыс. строк — примерно 2 минуты, однако этого достаточно для получения корректных результатов."
      ],
      "metadata": {
        "id": "EbFQ0eBXRpeR"
      }
    },
    {
      "cell_type": "code",
      "source": [
        "df = df.iloc[0:100000]"
      ],
      "metadata": {
        "id": "IDMlPcfwRtWf"
      },
      "execution_count": 31,
      "outputs": []
    },
    {
      "cell_type": "code",
      "source": [
        "df"
      ],
      "metadata": {
        "colab": {
          "base_uri": "https://localhost:8080/",
          "height": 424
        },
        "id": "r4vCJSsrRy_M",
        "outputId": "ce5ecb3b-2b79-44ca-df5a-c74f089a4ba3"
      },
      "execution_count": 32,
      "outputs": [
        {
          "output_type": "execute_result",
          "data": {
            "text/html": [
              "\n",
              "  <div id=\"df-f4a154dc-0b1f-4203-99b6-f48fe0270935\">\n",
              "    <div class=\"colab-df-container\">\n",
              "      <div>\n",
              "<style scoped>\n",
              "    .dataframe tbody tr th:only-of-type {\n",
              "        vertical-align: middle;\n",
              "    }\n",
              "\n",
              "    .dataframe tbody tr th {\n",
              "        vertical-align: top;\n",
              "    }\n",
              "\n",
              "    .dataframe thead th {\n",
              "        text-align: right;\n",
              "    }\n",
              "</style>\n",
              "<table border=\"1\" class=\"dataframe\">\n",
              "  <thead>\n",
              "    <tr style=\"text-align: right;\">\n",
              "      <th></th>\n",
              "      <th>id</th>\n",
              "      <th>user_id</th>\n",
              "      <th>venue_id</th>\n",
              "      <th>latitude</th>\n",
              "      <th>longitude</th>\n",
              "      <th>created_at</th>\n",
              "    </tr>\n",
              "  </thead>\n",
              "  <tbody>\n",
              "    <tr>\n",
              "      <th>2</th>\n",
              "      <td>984222</td>\n",
              "      <td>15824.0</td>\n",
              "      <td>5222.0</td>\n",
              "      <td>38.895112</td>\n",
              "      <td>-77.036366</td>\n",
              "      <td>2012-04-21 17:43:47</td>\n",
              "    </tr>\n",
              "    <tr>\n",
              "      <th>4</th>\n",
              "      <td>984234</td>\n",
              "      <td>44652.0</td>\n",
              "      <td>5222.0</td>\n",
              "      <td>33.800745</td>\n",
              "      <td>-84.410520</td>\n",
              "      <td>2012-04-21 17:43:43</td>\n",
              "    </tr>\n",
              "    <tr>\n",
              "      <th>8</th>\n",
              "      <td>984291</td>\n",
              "      <td>105054.0</td>\n",
              "      <td>5222.0</td>\n",
              "      <td>45.523452</td>\n",
              "      <td>-122.676207</td>\n",
              "      <td>2012-04-21 17:39:22</td>\n",
              "    </tr>\n",
              "    <tr>\n",
              "      <th>10</th>\n",
              "      <td>984318</td>\n",
              "      <td>2146539.0</td>\n",
              "      <td>5222.0</td>\n",
              "      <td>40.764462</td>\n",
              "      <td>-111.904565</td>\n",
              "      <td>2012-04-21 17:35:46</td>\n",
              "    </tr>\n",
              "    <tr>\n",
              "      <th>11</th>\n",
              "      <td>984232</td>\n",
              "      <td>93870.0</td>\n",
              "      <td>380645.0</td>\n",
              "      <td>33.448377</td>\n",
              "      <td>-112.074037</td>\n",
              "      <td>2012-04-21 17:38:18</td>\n",
              "    </tr>\n",
              "    <tr>\n",
              "      <th>...</th>\n",
              "      <td>...</td>\n",
              "      <td>...</td>\n",
              "      <td>...</td>\n",
              "      <td>...</td>\n",
              "      <td>...</td>\n",
              "      <td>...</td>\n",
              "    </tr>\n",
              "    <tr>\n",
              "      <th>233789</th>\n",
              "      <td>123888</td>\n",
              "      <td>1019078.0</td>\n",
              "      <td>1105563.0</td>\n",
              "      <td>33.575000</td>\n",
              "      <td>-117.725556</td>\n",
              "      <td>2011-12-11 05:38:19</td>\n",
              "    </tr>\n",
              "    <tr>\n",
              "      <th>233790</th>\n",
              "      <td>124366</td>\n",
              "      <td>771129.0</td>\n",
              "      <td>329847.0</td>\n",
              "      <td>37.629349</td>\n",
              "      <td>-122.400087</td>\n",
              "      <td>2011-12-11 04:55:34</td>\n",
              "    </tr>\n",
              "    <tr>\n",
              "      <th>233794</th>\n",
              "      <td>125556</td>\n",
              "      <td>804990.0</td>\n",
              "      <td>254046.0</td>\n",
              "      <td>29.762884</td>\n",
              "      <td>-95.383061</td>\n",
              "      <td>2011-12-11 06:54:20</td>\n",
              "    </tr>\n",
              "    <tr>\n",
              "      <th>233798</th>\n",
              "      <td>127250</td>\n",
              "      <td>526214.0</td>\n",
              "      <td>34473.0</td>\n",
              "      <td>32.802955</td>\n",
              "      <td>-96.769923</td>\n",
              "      <td>2011-12-11 10:05:38</td>\n",
              "    </tr>\n",
              "    <tr>\n",
              "      <th>233799</th>\n",
              "      <td>127284</td>\n",
              "      <td>290973.0</td>\n",
              "      <td>280656.0</td>\n",
              "      <td>37.774929</td>\n",
              "      <td>-122.419415</td>\n",
              "      <td>2011-12-11 08:24:40</td>\n",
              "    </tr>\n",
              "  </tbody>\n",
              "</table>\n",
              "<p>100000 rows × 6 columns</p>\n",
              "</div>\n",
              "      <button class=\"colab-df-convert\" onclick=\"convertToInteractive('df-f4a154dc-0b1f-4203-99b6-f48fe0270935')\"\n",
              "              title=\"Convert this dataframe to an interactive table.\"\n",
              "              style=\"display:none;\">\n",
              "        \n",
              "  <svg xmlns=\"http://www.w3.org/2000/svg\" height=\"24px\"viewBox=\"0 0 24 24\"\n",
              "       width=\"24px\">\n",
              "    <path d=\"M0 0h24v24H0V0z\" fill=\"none\"/>\n",
              "    <path d=\"M18.56 5.44l.94 2.06.94-2.06 2.06-.94-2.06-.94-.94-2.06-.94 2.06-2.06.94zm-11 1L8.5 8.5l.94-2.06 2.06-.94-2.06-.94L8.5 2.5l-.94 2.06-2.06.94zm10 10l.94 2.06.94-2.06 2.06-.94-2.06-.94-.94-2.06-.94 2.06-2.06.94z\"/><path d=\"M17.41 7.96l-1.37-1.37c-.4-.4-.92-.59-1.43-.59-.52 0-1.04.2-1.43.59L10.3 9.45l-7.72 7.72c-.78.78-.78 2.05 0 2.83L4 21.41c.39.39.9.59 1.41.59.51 0 1.02-.2 1.41-.59l7.78-7.78 2.81-2.81c.8-.78.8-2.07 0-2.86zM5.41 20L4 18.59l7.72-7.72 1.47 1.35L5.41 20z\"/>\n",
              "  </svg>\n",
              "      </button>\n",
              "      \n",
              "  <style>\n",
              "    .colab-df-container {\n",
              "      display:flex;\n",
              "      flex-wrap:wrap;\n",
              "      gap: 12px;\n",
              "    }\n",
              "\n",
              "    .colab-df-convert {\n",
              "      background-color: #E8F0FE;\n",
              "      border: none;\n",
              "      border-radius: 50%;\n",
              "      cursor: pointer;\n",
              "      display: none;\n",
              "      fill: #1967D2;\n",
              "      height: 32px;\n",
              "      padding: 0 0 0 0;\n",
              "      width: 32px;\n",
              "    }\n",
              "\n",
              "    .colab-df-convert:hover {\n",
              "      background-color: #E2EBFA;\n",
              "      box-shadow: 0px 1px 2px rgba(60, 64, 67, 0.3), 0px 1px 3px 1px rgba(60, 64, 67, 0.15);\n",
              "      fill: #174EA6;\n",
              "    }\n",
              "\n",
              "    [theme=dark] .colab-df-convert {\n",
              "      background-color: #3B4455;\n",
              "      fill: #D2E3FC;\n",
              "    }\n",
              "\n",
              "    [theme=dark] .colab-df-convert:hover {\n",
              "      background-color: #434B5C;\n",
              "      box-shadow: 0px 1px 3px 1px rgba(0, 0, 0, 0.15);\n",
              "      filter: drop-shadow(0px 1px 2px rgba(0, 0, 0, 0.3));\n",
              "      fill: #FFFFFF;\n",
              "    }\n",
              "  </style>\n",
              "\n",
              "      <script>\n",
              "        const buttonEl =\n",
              "          document.querySelector('#df-f4a154dc-0b1f-4203-99b6-f48fe0270935 button.colab-df-convert');\n",
              "        buttonEl.style.display =\n",
              "          google.colab.kernel.accessAllowed ? 'block' : 'none';\n",
              "\n",
              "        async function convertToInteractive(key) {\n",
              "          const element = document.querySelector('#df-f4a154dc-0b1f-4203-99b6-f48fe0270935');\n",
              "          const dataTable =\n",
              "            await google.colab.kernel.invokeFunction('convertToInteractive',\n",
              "                                                     [key], {});\n",
              "          if (!dataTable) return;\n",
              "\n",
              "          const docLinkHtml = 'Like what you see? Visit the ' +\n",
              "            '<a target=\"_blank\" href=https://colab.research.google.com/notebooks/data_table.ipynb>data table notebook</a>'\n",
              "            + ' to learn more about interactive tables.';\n",
              "          element.innerHTML = '';\n",
              "          dataTable['output_type'] = 'display_data';\n",
              "          await google.colab.output.renderOutput(dataTable, element);\n",
              "          const docLink = document.createElement('div');\n",
              "          docLink.innerHTML = docLinkHtml;\n",
              "          element.appendChild(docLink);\n",
              "        }\n",
              "      </script>\n",
              "    </div>\n",
              "  </div>\n",
              "  "
            ],
            "text/plain": [
              "             id    user_id  ...   longitude           created_at\n",
              "2       984222     15824.0  ...  -77.036366  2012-04-21 17:43:47\n",
              "4       984234     44652.0  ...  -84.410520  2012-04-21 17:43:43\n",
              "8       984291    105054.0  ... -122.676207  2012-04-21 17:39:22\n",
              "10      984318   2146539.0  ... -111.904565  2012-04-21 17:35:46\n",
              "11      984232     93870.0  ... -112.074037  2012-04-21 17:38:18\n",
              "...         ...        ...  ...         ...                  ...\n",
              "233789   123888  1019078.0  ... -117.725556  2011-12-11 05:38:19\n",
              "233790   124366   771129.0  ... -122.400087  2011-12-11 04:55:34\n",
              "233794   125556   804990.0  ...  -95.383061  2011-12-11 06:54:20\n",
              "233798   127250   526214.0  ...  -96.769923  2011-12-11 10:05:38\n",
              "233799   127284   290973.0  ... -122.419415  2011-12-11 08:24:40\n",
              "\n",
              "[100000 rows x 6 columns]"
            ]
          },
          "metadata": {},
          "execution_count": 32
        }
      ]
    },
    {
      "cell_type": "code",
      "source": [
        "df.plot.scatter(x='longitude', y='latitude', alpha=0.3)"
      ],
      "metadata": {
        "colab": {
          "base_uri": "https://localhost:8080/",
          "height": 296
        },
        "id": "2sKSFh1jR2lL",
        "outputId": "cfce77b9-d935-45bb-a3cf-d4e9d443094a"
      },
      "execution_count": 33,
      "outputs": [
        {
          "output_type": "execute_result",
          "data": {
            "text/plain": [
              "<matplotlib.axes._subplots.AxesSubplot at 0x7f3d6b549590>"
            ]
          },
          "metadata": {},
          "execution_count": 33
        },
        {
          "output_type": "display_data",
          "data": {
            "image/png": "[encoded data removed]",
            "text/plain": [
              "<Figure size 432x288 with 1 Axes>"
            ]
          },
          "metadata": {
            "needs_background": "light"
          }
        }
      ]
    },
    {
      "cell_type": "code",
      "source": [
        "from sklearn.cluster import MeanShift"
      ],
      "metadata": {
        "id": "t7vVqVwLSCUw"
      },
      "execution_count": 34,
      "outputs": []
    },
    {
      "cell_type": "markdown",
      "source": [
        "Используется алгоритм MeanShift"
      ],
      "metadata": {
        "id": "8j20xkILRY_x"
      }
    },
    {
      "cell_type": "markdown",
      "source": [
        "bandwidth=0.1, в переводе из градусов в метры колеблется примерно от 5 до 10 км в средних широтах."
      ],
      "metadata": {
        "id": "raSZHHWUSK-t"
      }
    },
    {
      "cell_type": "code",
      "source": [
        "cluster = MeanShift(bandwidth=0.1)"
      ],
      "metadata": {
        "id": "i3ZsGAZSSHJL"
      },
      "execution_count": 35,
      "outputs": []
    },
    {
      "cell_type": "code",
      "source": [
        "cluster.fit(df[['latitude', 'longitude']])"
      ],
      "metadata": {
        "colab": {
          "base_uri": "https://localhost:8080/"
        },
        "id": "pQqxftNqSQO_",
        "outputId": "39ff8e5e-08bf-4a13-99c8-eed8a4e4a31e"
      },
      "execution_count": 36,
      "outputs": [
        {
          "output_type": "execute_result",
          "data": {
            "text/plain": [
              "MeanShift(bandwidth=0.1)"
            ]
          },
          "metadata": {},
          "execution_count": 36
        }
      ]
    },
    {
      "cell_type": "code",
      "source": [
        "cluster_centers_x = [el[1] for el in cluster.cluster_centers_]\n",
        "cluster_centers_y = [el[0] for el in cluster.cluster_centers_]"
      ],
      "metadata": {
        "id": "672qmtDuTokF"
      },
      "execution_count": 39,
      "outputs": []
    },
    {
      "cell_type": "code",
      "source": [
        "plt.scatter(x=cluster_centers_x, y=cluster_centers_y, alpha=0.3)"
      ],
      "metadata": {
        "colab": {
          "base_uri": "https://localhost:8080/",
          "height": 282
        },
        "id": "LIWNFtMUTxN1",
        "outputId": "73590565-15cd-405d-e1bf-05d7329ff23a"
      },
      "execution_count": 40,
      "outputs": [
        {
          "output_type": "execute_result",
          "data": {
            "text/plain": [
              "<matplotlib.collections.PathCollection at 0x7f3d67bc8b50>"
            ]
          },
          "metadata": {},
          "execution_count": 40
        },
        {
          "output_type": "display_data",
          "data": {
            "image/png": "[encoded data removed]",
            "text/plain": [
              "<Figure size 432x288 with 1 Axes>"
            ]
          },
          "metadata": {
            "needs_background": "light"
          }
        }
      ]
    },
    {
      "cell_type": "markdown",
      "source": [
        "Некоторые из получившихся кластеров содержат слишком мало точек — такие кластеры не интересны рекламодателям. Поэтому надо определить, какие из кластеров содержат, скажем, больше 15 элементов. Центры этих кластеров и являются оптимальными для размещения."
      ],
      "metadata": {
        "id": "RQ8_2JaWT4pr"
      }
    },
    {
      "cell_type": "code",
      "source": [
        "big_clasters = []\n",
        "for label in set(cluster.labels_):\n",
        "    if len(cluster.labels_[cluster.labels_ == label]) >= 15:\n",
        "        big_clasters.append(label)"
      ],
      "metadata": {
        "id": "7UNlWqTxT11Y"
      },
      "execution_count": 41,
      "outputs": []
    },
    {
      "cell_type": "markdown",
      "source": [
        "Получены следующие координаты кластеров"
      ],
      "metadata": {
        "id": "9QZuQqeqUVmX"
      }
    },
    {
      "cell_type": "code",
      "source": [
        "cluster_centers = pd.DataFrame({'longitude': cluster_centers_x,\n",
        "                                'latitude': cluster_centers_y, 'label': range(len(cluster_centers_x))})\n",
        "big_cluster_centers = cluster_centers[cluster_centers['label'].isin(big_clasters)]\n",
        "big_cluster_centers"
      ],
      "metadata": {
        "colab": {
          "base_uri": "https://localhost:8080/",
          "height": 424
        },
        "id": "AWQ6b3QsUcvu",
        "outputId": "15535792-cfa9-4c21-bca6-3f859e46de96"
      },
      "execution_count": 43,
      "outputs": [
        {
          "output_type": "execute_result",
          "data": {
            "text/html": [
              "\n",
              "  <div id=\"df-dfc56cf3-68c4-46d6-8889-a30a8863dc8c\">\n",
              "    <div class=\"colab-df-container\">\n",
              "      <div>\n",
              "<style scoped>\n",
              "    .dataframe tbody tr th:only-of-type {\n",
              "        vertical-align: middle;\n",
              "    }\n",
              "\n",
              "    .dataframe tbody tr th {\n",
              "        vertical-align: top;\n",
              "    }\n",
              "\n",
              "    .dataframe thead th {\n",
              "        text-align: right;\n",
              "    }\n",
              "</style>\n",
              "<table border=\"1\" class=\"dataframe\">\n",
              "  <thead>\n",
              "    <tr style=\"text-align: right;\">\n",
              "      <th></th>\n",
              "      <th>longitude</th>\n",
              "      <th>latitude</th>\n",
              "      <th>label</th>\n",
              "    </tr>\n",
              "  </thead>\n",
              "  <tbody>\n",
              "    <tr>\n",
              "      <th>0</th>\n",
              "      <td>-73.991835</td>\n",
              "      <td>40.717716</td>\n",
              "      <td>0</td>\n",
              "    </tr>\n",
              "    <tr>\n",
              "      <th>1</th>\n",
              "      <td>-112.002140</td>\n",
              "      <td>33.449438</td>\n",
              "      <td>1</td>\n",
              "    </tr>\n",
              "    <tr>\n",
              "      <th>2</th>\n",
              "      <td>-111.901888</td>\n",
              "      <td>33.446380</td>\n",
              "      <td>2</td>\n",
              "    </tr>\n",
              "    <tr>\n",
              "      <th>3</th>\n",
              "      <td>-87.629843</td>\n",
              "      <td>41.878244</td>\n",
              "      <td>3</td>\n",
              "    </tr>\n",
              "    <tr>\n",
              "      <th>4</th>\n",
              "      <td>-122.409330</td>\n",
              "      <td>37.688682</td>\n",
              "      <td>4</td>\n",
              "    </tr>\n",
              "    <tr>\n",
              "      <th>...</th>\n",
              "      <td>...</td>\n",
              "      <td>...</td>\n",
              "      <td>...</td>\n",
              "    </tr>\n",
              "    <tr>\n",
              "      <th>712</th>\n",
              "      <td>-122.940805</td>\n",
              "      <td>49.199791</td>\n",
              "      <td>712</td>\n",
              "    </tr>\n",
              "    <tr>\n",
              "      <th>727</th>\n",
              "      <td>-73.666619</td>\n",
              "      <td>41.220398</td>\n",
              "      <td>727</td>\n",
              "    </tr>\n",
              "    <tr>\n",
              "      <th>884</th>\n",
              "      <td>-88.445568</td>\n",
              "      <td>41.618532</td>\n",
              "      <td>884</td>\n",
              "    </tr>\n",
              "    <tr>\n",
              "      <th>1343</th>\n",
              "      <td>-77.182127</td>\n",
              "      <td>39.249469</td>\n",
              "      <td>1343</td>\n",
              "    </tr>\n",
              "    <tr>\n",
              "      <th>1350</th>\n",
              "      <td>-76.885687</td>\n",
              "      <td>38.658779</td>\n",
              "      <td>1350</td>\n",
              "    </tr>\n",
              "  </tbody>\n",
              "</table>\n",
              "<p>624 rows × 3 columns</p>\n",
              "</div>\n",
              "      <button class=\"colab-df-convert\" onclick=\"convertToInteractive('df-dfc56cf3-68c4-46d6-8889-a30a8863dc8c')\"\n",
              "              title=\"Convert this dataframe to an interactive table.\"\n",
              "              style=\"display:none;\">\n",
              "        \n",
              "  <svg xmlns=\"http://www.w3.org/2000/svg\" height=\"24px\"viewBox=\"0 0 24 24\"\n",
              "       width=\"24px\">\n",
              "    <path d=\"M0 0h24v24H0V0z\" fill=\"none\"/>\n",
              "    <path d=\"M18.56 5.44l.94 2.06.94-2.06 2.06-.94-2.06-.94-.94-2.06-.94 2.06-2.06.94zm-11 1L8.5 8.5l.94-2.06 2.06-.94-2.06-.94L8.5 2.5l-.94 2.06-2.06.94zm10 10l.94 2.06.94-2.06 2.06-.94-2.06-.94-.94-2.06-.94 2.06-2.06.94z\"/><path d=\"M17.41 7.96l-1.37-1.37c-.4-.4-.92-.59-1.43-.59-.52 0-1.04.2-1.43.59L10.3 9.45l-7.72 7.72c-.78.78-.78 2.05 0 2.83L4 21.41c.39.39.9.59 1.41.59.51 0 1.02-.2 1.41-.59l7.78-7.78 2.81-2.81c.8-.78.8-2.07 0-2.86zM5.41 20L4 18.59l7.72-7.72 1.47 1.35L5.41 20z\"/>\n",
              "  </svg>\n",
              "      </button>\n",
              "      \n",
              "  <style>\n",
              "    .colab-df-container {\n",
              "      display:flex;\n",
              "      flex-wrap:wrap;\n",
              "      gap: 12px;\n",
              "    }\n",
              "\n",
              "    .colab-df-convert {\n",
              "      background-color: #E8F0FE;\n",
              "      border: none;\n",
              "      border-radius: 50%;\n",
              "      cursor: pointer;\n",
              "      display: none;\n",
              "      fill: #1967D2;\n",
              "      height: 32px;\n",
              "      padding: 0 0 0 0;\n",
              "      width: 32px;\n",
              "    }\n",
              "\n",
              "    .colab-df-convert:hover {\n",
              "      background-color: #E2EBFA;\n",
              "      box-shadow: 0px 1px 2px rgba(60, 64, 67, 0.3), 0px 1px 3px 1px rgba(60, 64, 67, 0.15);\n",
              "      fill: #174EA6;\n",
              "    }\n",
              "\n",
              "    [theme=dark] .colab-df-convert {\n",
              "      background-color: #3B4455;\n",
              "      fill: #D2E3FC;\n",
              "    }\n",
              "\n",
              "    [theme=dark] .colab-df-convert:hover {\n",
              "      background-color: #434B5C;\n",
              "      box-shadow: 0px 1px 3px 1px rgba(0, 0, 0, 0.15);\n",
              "      filter: drop-shadow(0px 1px 2px rgba(0, 0, 0, 0.3));\n",
              "      fill: #FFFFFF;\n",
              "    }\n",
              "  </style>\n",
              "\n",
              "      <script>\n",
              "        const buttonEl =\n",
              "          document.querySelector('#df-dfc56cf3-68c4-46d6-8889-a30a8863dc8c button.colab-df-convert');\n",
              "        buttonEl.style.display =\n",
              "          google.colab.kernel.accessAllowed ? 'block' : 'none';\n",
              "\n",
              "        async function convertToInteractive(key) {\n",
              "          const element = document.querySelector('#df-dfc56cf3-68c4-46d6-8889-a30a8863dc8c');\n",
              "          const dataTable =\n",
              "            await google.colab.kernel.invokeFunction('convertToInteractive',\n",
              "                                                     [key], {});\n",
              "          if (!dataTable) return;\n",
              "\n",
              "          const docLinkHtml = 'Like what you see? Visit the ' +\n",
              "            '<a target=\"_blank\" href=https://colab.research.google.com/notebooks/data_table.ipynb>data table notebook</a>'\n",
              "            + ' to learn more about interactive tables.';\n",
              "          element.innerHTML = '';\n",
              "          dataTable['output_type'] = 'display_data';\n",
              "          await google.colab.output.renderOutput(dataTable, element);\n",
              "          const docLink = document.createElement('div');\n",
              "          docLink.innerHTML = docLinkHtml;\n",
              "          element.appendChild(docLink);\n",
              "        }\n",
              "      </script>\n",
              "    </div>\n",
              "  </div>\n",
              "  "
            ],
            "text/plain": [
              "       longitude   latitude  label\n",
              "0     -73.991835  40.717716      0\n",
              "1    -112.002140  33.449438      1\n",
              "2    -111.901888  33.446380      2\n",
              "3     -87.629843  41.878244      3\n",
              "4    -122.409330  37.688682      4\n",
              "...          ...        ...    ...\n",
              "712  -122.940805  49.199791    712\n",
              "727   -73.666619  41.220398    727\n",
              "884   -88.445568  41.618532    884\n",
              "1343  -77.182127  39.249469   1343\n",
              "1350  -76.885687  38.658779   1350\n",
              "\n",
              "[624 rows x 3 columns]"
            ]
          },
          "metadata": {},
          "execution_count": 43
        }
      ]
    },
    {
      "cell_type": "code",
      "source": [
        "cluster_centers_x = big_cluster_centers['longitude']\n",
        "cluster_centers_y = big_cluster_centers['latitude']"
      ],
      "metadata": {
        "id": "p3LzuWr5U_wu"
      },
      "execution_count": 46,
      "outputs": []
    },
    {
      "cell_type": "code",
      "source": [
        "plt.scatter(cluster_centers_x, cluster_centers_y, alpha = 0.3)"
      ],
      "metadata": {
        "colab": {
          "base_uri": "https://localhost:8080/",
          "height": 282
        },
        "id": "QmYS5ZEBU4M9",
        "outputId": "1580015d-2186-4eb7-d551-8f77d47499f4"
      },
      "execution_count": 47,
      "outputs": [
        {
          "output_type": "execute_result",
          "data": {
            "text/plain": [
              "<matplotlib.collections.PathCollection at 0x7f3d6b040ad0>"
            ]
          },
          "metadata": {},
          "execution_count": 47
        },
        {
          "output_type": "display_data",
          "data": {
            "image/png": "[encoded data removed]",
            "text/plain": [
              "<Figure size 432x288 with 1 Axes>"
            ]
          },
          "metadata": {
            "needs_background": "light"
          }
        }
      ]
    },
    {
      "cell_type": "markdown",
      "source": [
        "Найдем на Google Maps по запросу Carnival Cruise Line адреса всех офисов:"
      ],
      "metadata": {
        "id": "9fdwF2FgV7nm"
      }
    },
    {
      "cell_type": "code",
      "source": [
        "offices = [[34.2720355,-118.4693734], [33.7507188,-118.1889072], [27.9450524,-82.4455656],\n",
        "                  [39.2650447,-76.6007999], [32.717609,-117.1761962], [37.804883,-122.4016302],\n",
        "                  [49.2514431,-123.1277804], [32.7859233,-79.9333731], [30.6860768,-88.0394999],\n",
        "                  [26.1216934,-80.1388889], [33.3882696,-111.6913768], [26.0853385,-80.1180988],\n",
        "                  [30.0068944,-90.1633797], [29.3075638,-94.7986193], [28.4157244,-80.6310168],\n",
        "                  [52.3787031,4.8849274], [47.3831508,8.4987319], [41.3905199,2.1570719],\n",
        "                  [50.4356475,30.5142909], [53.4699633,-2.2947828]]"
      ],
      "metadata": {
        "id": "Zg6YfjQ4V4Tz"
      },
      "execution_count": 93,
      "outputs": []
    },
    {
      "cell_type": "code",
      "source": [
        "office_centers_x = [34.2720355, 33.7507188, 27.9450524, 39.2650447, 32.717609, 37.804883, 49.2514431, 32.7859233, 30.6860768, 26.1216934, 33.3882696, 26.0853385, 30.0068944, 29.3075638, 28.4157244,  52.3787031, 47.3831508, 41.3905199, 50.4356475, 53.4699633]\n",
        "office_centers_y = [-118.4693734,-118.1889072,-82.4455656,-76.6007999,-117.1761962,-122.4016302,-123.1277804,-79.9333731,-88.0394999,-80.1388889,-111.6913768,-80.1180988,-90.1633797,-94.7986193,-80.6310168,4.8849274,8.4987319,2.1570719,30.5142909,-2.2947828]              "
      ],
      "metadata": {
        "id": "C53sv1TsiXFk"
      },
      "execution_count": 105,
      "outputs": []
    },
    {
      "cell_type": "code",
      "source": [
        "office_centers = pd.DataFrame({'latitude': office_centers_x,\n",
        "                                'longitude': office_centers_y, 'label': range(len(offices))})\n",
        "office_centers"
      ],
      "metadata": {
        "colab": {
          "base_uri": "https://localhost:8080/",
          "height": 677
        },
        "id": "MGOnXJMyiJ3S",
        "outputId": "1621cddb-9351-4f65-ec38-ebabb8ddb5f5"
      },
      "execution_count": 133,
      "outputs": [
        {
          "output_type": "execute_result",
          "data": {
            "text/html": [
              "\n",
              "  <div id=\"df-88082821-4a9b-4405-9880-6e967db9da5b\">\n",
              "    <div class=\"colab-df-container\">\n",
              "      <div>\n",
              "<style scoped>\n",
              "    .dataframe tbody tr th:only-of-type {\n",
              "        vertical-align: middle;\n",
              "    }\n",
              "\n",
              "    .dataframe tbody tr th {\n",
              "        vertical-align: top;\n",
              "    }\n",
              "\n",
              "    .dataframe thead th {\n",
              "        text-align: right;\n",
              "    }\n",
              "</style>\n",
              "<table border=\"1\" class=\"dataframe\">\n",
              "  <thead>\n",
              "    <tr style=\"text-align: right;\">\n",
              "      <th></th>\n",
              "      <th>latitude</th>\n",
              "      <th>longitude</th>\n",
              "      <th>label</th>\n",
              "    </tr>\n",
              "  </thead>\n",
              "  <tbody>\n",
              "    <tr>\n",
              "      <th>0</th>\n",
              "      <td>34.272036</td>\n",
              "      <td>-118.469373</td>\n",
              "      <td>0</td>\n",
              "    </tr>\n",
              "    <tr>\n",
              "      <th>1</th>\n",
              "      <td>33.750719</td>\n",
              "      <td>-118.188907</td>\n",
              "      <td>1</td>\n",
              "    </tr>\n",
              "    <tr>\n",
              "      <th>2</th>\n",
              "      <td>27.945052</td>\n",
              "      <td>-82.445566</td>\n",
              "      <td>2</td>\n",
              "    </tr>\n",
              "    <tr>\n",
              "      <th>3</th>\n",
              "      <td>39.265045</td>\n",
              "      <td>-76.600800</td>\n",
              "      <td>3</td>\n",
              "    </tr>\n",
              "    <tr>\n",
              "      <th>4</th>\n",
              "      <td>32.717609</td>\n",
              "      <td>-117.176196</td>\n",
              "      <td>4</td>\n",
              "    </tr>\n",
              "    <tr>\n",
              "      <th>5</th>\n",
              "      <td>37.804883</td>\n",
              "      <td>-122.401630</td>\n",
              "      <td>5</td>\n",
              "    </tr>\n",
              "    <tr>\n",
              "      <th>6</th>\n",
              "      <td>49.251443</td>\n",
              "      <td>-123.127780</td>\n",
              "      <td>6</td>\n",
              "    </tr>\n",
              "    <tr>\n",
              "      <th>7</th>\n",
              "      <td>32.785923</td>\n",
              "      <td>-79.933373</td>\n",
              "      <td>7</td>\n",
              "    </tr>\n",
              "    <tr>\n",
              "      <th>8</th>\n",
              "      <td>30.686077</td>\n",
              "      <td>-88.039500</td>\n",
              "      <td>8</td>\n",
              "    </tr>\n",
              "    <tr>\n",
              "      <th>9</th>\n",
              "      <td>26.121693</td>\n",
              "      <td>-80.138889</td>\n",
              "      <td>9</td>\n",
              "    </tr>\n",
              "    <tr>\n",
              "      <th>10</th>\n",
              "      <td>33.388270</td>\n",
              "      <td>-111.691377</td>\n",
              "      <td>10</td>\n",
              "    </tr>\n",
              "    <tr>\n",
              "      <th>11</th>\n",
              "      <td>26.085338</td>\n",
              "      <td>-80.118099</td>\n",
              "      <td>11</td>\n",
              "    </tr>\n",
              "    <tr>\n",
              "      <th>12</th>\n",
              "      <td>30.006894</td>\n",
              "      <td>-90.163380</td>\n",
              "      <td>12</td>\n",
              "    </tr>\n",
              "    <tr>\n",
              "      <th>13</th>\n",
              "      <td>29.307564</td>\n",
              "      <td>-94.798619</td>\n",
              "      <td>13</td>\n",
              "    </tr>\n",
              "    <tr>\n",
              "      <th>14</th>\n",
              "      <td>28.415724</td>\n",
              "      <td>-80.631017</td>\n",
              "      <td>14</td>\n",
              "    </tr>\n",
              "    <tr>\n",
              "      <th>15</th>\n",
              "      <td>52.378703</td>\n",
              "      <td>4.884927</td>\n",
              "      <td>15</td>\n",
              "    </tr>\n",
              "    <tr>\n",
              "      <th>16</th>\n",
              "      <td>47.383151</td>\n",
              "      <td>8.498732</td>\n",
              "      <td>16</td>\n",
              "    </tr>\n",
              "    <tr>\n",
              "      <th>17</th>\n",
              "      <td>41.390520</td>\n",
              "      <td>2.157072</td>\n",
              "      <td>17</td>\n",
              "    </tr>\n",
              "    <tr>\n",
              "      <th>18</th>\n",
              "      <td>50.435648</td>\n",
              "      <td>30.514291</td>\n",
              "      <td>18</td>\n",
              "    </tr>\n",
              "    <tr>\n",
              "      <th>19</th>\n",
              "      <td>53.469963</td>\n",
              "      <td>-2.294783</td>\n",
              "      <td>19</td>\n",
              "    </tr>\n",
              "  </tbody>\n",
              "</table>\n",
              "</div>\n",
              "      <button class=\"colab-df-convert\" onclick=\"convertToInteractive('df-88082821-4a9b-4405-9880-6e967db9da5b')\"\n",
              "              title=\"Convert this dataframe to an interactive table.\"\n",
              "              style=\"display:none;\">\n",
              "        \n",
              "  <svg xmlns=\"http://www.w3.org/2000/svg\" height=\"24px\"viewBox=\"0 0 24 24\"\n",
              "       width=\"24px\">\n",
              "    <path d=\"M0 0h24v24H0V0z\" fill=\"none\"/>\n",
              "    <path d=\"M18.56 5.44l.94 2.06.94-2.06 2.06-.94-2.06-.94-.94-2.06-.94 2.06-2.06.94zm-11 1L8.5 8.5l.94-2.06 2.06-.94-2.06-.94L8.5 2.5l-.94 2.06-2.06.94zm10 10l.94 2.06.94-2.06 2.06-.94-2.06-.94-.94-2.06-.94 2.06-2.06.94z\"/><path d=\"M17.41 7.96l-1.37-1.37c-.4-.4-.92-.59-1.43-.59-.52 0-1.04.2-1.43.59L10.3 9.45l-7.72 7.72c-.78.78-.78 2.05 0 2.83L4 21.41c.39.39.9.59 1.41.59.51 0 1.02-.2 1.41-.59l7.78-7.78 2.81-2.81c.8-.78.8-2.07 0-2.86zM5.41 20L4 18.59l7.72-7.72 1.47 1.35L5.41 20z\"/>\n",
              "  </svg>\n",
              "      </button>\n",
              "      \n",
              "  <style>\n",
              "    .colab-df-container {\n",
              "      display:flex;\n",
              "      flex-wrap:wrap;\n",
              "      gap: 12px;\n",
              "    }\n",
              "\n",
              "    .colab-df-convert {\n",
              "      background-color: #E8F0FE;\n",
              "      border: none;\n",
              "      border-radius: 50%;\n",
              "      cursor: pointer;\n",
              "      display: none;\n",
              "      fill: #1967D2;\n",
              "      height: 32px;\n",
              "      padding: 0 0 0 0;\n",
              "      width: 32px;\n",
              "    }\n",
              "\n",
              "    .colab-df-convert:hover {\n",
              "      background-color: #E2EBFA;\n",
              "      box-shadow: 0px 1px 2px rgba(60, 64, 67, 0.3), 0px 1px 3px 1px rgba(60, 64, 67, 0.15);\n",
              "      fill: #174EA6;\n",
              "    }\n",
              "\n",
              "    [theme=dark] .colab-df-convert {\n",
              "      background-color: #3B4455;\n",
              "      fill: #D2E3FC;\n",
              "    }\n",
              "\n",
              "    [theme=dark] .colab-df-convert:hover {\n",
              "      background-color: #434B5C;\n",
              "      box-shadow: 0px 1px 3px 1px rgba(0, 0, 0, 0.15);\n",
              "      filter: drop-shadow(0px 1px 2px rgba(0, 0, 0, 0.3));\n",
              "      fill: #FFFFFF;\n",
              "    }\n",
              "  </style>\n",
              "\n",
              "      <script>\n",
              "        const buttonEl =\n",
              "          document.querySelector('#df-88082821-4a9b-4405-9880-6e967db9da5b button.colab-df-convert');\n",
              "        buttonEl.style.display =\n",
              "          google.colab.kernel.accessAllowed ? 'block' : 'none';\n",
              "\n",
              "        async function convertToInteractive(key) {\n",
              "          const element = document.querySelector('#df-88082821-4a9b-4405-9880-6e967db9da5b');\n",
              "          const dataTable =\n",
              "            await google.colab.kernel.invokeFunction('convertToInteractive',\n",
              "                                                     [key], {});\n",
              "          if (!dataTable) return;\n",
              "\n",
              "          const docLinkHtml = 'Like what you see? Visit the ' +\n",
              "            '<a target=\"_blank\" href=https://colab.research.google.com/notebooks/data_table.ipynb>data table notebook</a>'\n",
              "            + ' to learn more about interactive tables.';\n",
              "          element.innerHTML = '';\n",
              "          dataTable['output_type'] = 'display_data';\n",
              "          await google.colab.output.renderOutput(dataTable, element);\n",
              "          const docLink = document.createElement('div');\n",
              "          docLink.innerHTML = docLinkHtml;\n",
              "          element.appendChild(docLink);\n",
              "        }\n",
              "      </script>\n",
              "    </div>\n",
              "  </div>\n",
              "  "
            ],
            "text/plain": [
              "     latitude   longitude  label\n",
              "0   34.272036 -118.469373      0\n",
              "1   33.750719 -118.188907      1\n",
              "2   27.945052  -82.445566      2\n",
              "3   39.265045  -76.600800      3\n",
              "4   32.717609 -117.176196      4\n",
              "5   37.804883 -122.401630      5\n",
              "6   49.251443 -123.127780      6\n",
              "7   32.785923  -79.933373      7\n",
              "8   30.686077  -88.039500      8\n",
              "9   26.121693  -80.138889      9\n",
              "10  33.388270 -111.691377     10\n",
              "11  26.085338  -80.118099     11\n",
              "12  30.006894  -90.163380     12\n",
              "13  29.307564  -94.798619     13\n",
              "14  28.415724  -80.631017     14\n",
              "15  52.378703    4.884927     15\n",
              "16  47.383151    8.498732     16\n",
              "17  41.390520    2.157072     17\n",
              "18  50.435648   30.514291     18\n",
              "19  53.469963   -2.294783     19"
            ]
          },
          "metadata": {},
          "execution_count": 133
        }
      ]
    },
    {
      "cell_type": "code",
      "source": [
        "office_centers = office_centers.astype('float64')\n",
        "offices_for_dist = office_centers.loc[:, ['latitude', 'longitude']]\n",
        "offices_for_dist\n",
        "datatypes = offices_for_dist.dtypes \n",
        "print(datatypes)\n",
        "offices_for_dist.loc[0]\n"
      ],
      "metadata": {
        "colab": {
          "base_uri": "https://localhost:8080/"
        },
        "id": "CFzpcMi2mbMP",
        "outputId": "fb19738c-ac29-478d-9aa9-c31d255f4e26"
      },
      "execution_count": 134,
      "outputs": [
        {
          "output_type": "stream",
          "name": "stdout",
          "text": [
            "latitude     float64\n",
            "longitude    float64\n",
            "dtype: object\n"
          ]
        },
        {
          "output_type": "execute_result",
          "data": {
            "text/plain": [
              "latitude      34.272036\n",
              "longitude   -118.469373\n",
              "Name: 0, dtype: float64"
            ]
          },
          "metadata": {},
          "execution_count": 134
        }
      ]
    },
    {
      "cell_type": "markdown",
      "source": [
        "Осталось определить 20 ближайших к ним центров кластеров. Т.е. посчитать дистанцию до ближайшего офиса для каждой точки и выбрать 20 с наименьшим значением."
      ],
      "metadata": {
        "id": "HdQIcPu0b6sN"
      }
    },
    {
      "cell_type": "code",
      "source": [
        "distances = []\n",
        "min_distance = 4000\n",
        "best_center = [3000, 3000]\n",
        "for address in offices:\n",
        "    best_distance = 4000\n",
        "    distances.append([3000, 3000])\n",
        "    for i in range(len(big_cluster_centers)):\n",
        "        distance = (address[0] - big_cluster_centers.iloc[i, 1]) ** 2 + (address[1] - big_cluster_centers.iloc[i, 0]) ** 2\n",
        "        if distance < best_distance:\n",
        "            best_distance = distance\n",
        "            distances[-1] = [big_cluster_centers.iloc[i, 1], big_cluster_centers.iloc[i, 0]]\n",
        "    if best_distance < min_distance:\n",
        "        best_center = distances[-1]\n",
        "        min_distance = best_distance\n",
        "distances"
      ],
      "metadata": {
        "colab": {
          "base_uri": "https://localhost:8080/"
        },
        "id": "tIEnGPmHWbt3",
        "outputId": "165b4942-5dd0-4c82-cbe8-887ff519d36f"
      },
      "execution_count": 136,
      "outputs": [
        {
          "output_type": "execute_result",
          "data": {
            "text/plain": [
              "[[34.198182070921945, -118.54927680780153],\n",
              " [33.8098779552631, -118.14892380690816],\n",
              " [27.94944607964624, -82.4650735999998],\n",
              " [39.28625030782621, -76.61466929101515],\n",
              " [32.71134443394277, -117.15363874791043],\n",
              " [37.68868157406161, -122.40933037359147],\n",
              " [49.24017197830703, -123.11186022275179],\n",
              " [32.78430573736261, -79.92050398571432],\n",
              " [30.6943566, -88.0430541],\n",
              " [26.120862658633104, -80.1589066802157],\n",
              " [33.357344562325096, -111.82265410760392],\n",
              " [26.120862658633104, -80.1589066802157],\n",
              " [29.986731291666665, -90.20393365555553],\n",
              " [29.762697754725156, -95.3823137047244],\n",
              " [28.329701672413794, -80.6728876965517],\n",
              " [52.37296399032261, 4.892317222580647],\n",
              " [50.11151180000001, 8.6805059],\n",
              " [40.417455494444454, -3.700910200000001],\n",
              " [55.748349518181776, 37.62385041818183],\n",
              " [51.50299126088708, -0.12553728870967767]]"
            ]
          },
          "metadata": {},
          "execution_count": 136
        }
      ]
    },
    {
      "cell_type": "code",
      "source": [
        "best_center"
      ],
      "metadata": {
        "colab": {
          "base_uri": "https://localhost:8080/"
        },
        "id": "wVk5b08CYOt4",
        "outputId": "08ad1f41-c961-4e23-a19d-2ce2ba553b0d"
      },
      "execution_count": 137,
      "outputs": [
        {
          "output_type": "execute_result",
          "data": {
            "text/plain": [
              "[30.6943566, -88.0430541]"
            ]
          },
          "metadata": {},
          "execution_count": 137
        }
      ]
    },
    {
      "cell_type": "code",
      "source": [
        "min_distance"
      ],
      "metadata": {
        "colab": {
          "base_uri": "https://localhost:8080/"
        },
        "id": "e2-uJY_bdMt6",
        "outputId": "5c30dcc9-6f6d-4c23-af9c-1ab797dd882d"
      },
      "execution_count": 138,
      "outputs": [
        {
          "output_type": "execute_result",
          "data": {
            "text/plain": [
              "8.118742568008192e-05"
            ]
          },
          "metadata": {},
          "execution_count": 138
        }
      ]
    }
  ]
}